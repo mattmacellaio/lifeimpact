{
 "cells": [
  {
   "cell_type": "code",
   "execution_count": 45,
   "metadata": {},
   "outputs": [
    {
     "name": "stdout",
     "output_type": "stream",
     "text": [
      "0\n",
      "https://www.basketball-reference.com//players/a/abdelal01.html\n"
     ]
    },
    {
     "data": {
      "text/plain": [
       "'https://www.basketball-reference.com//players/a/abdelal01/gamelog/1991/'"
      ]
     },
     "execution_count": 45,
     "metadata": {},
     "output_type": "execute_result"
    }
   ],
   "source": [
    "#input player, event date\n",
    "import requests,bs4\n",
    "from datetime import datetime\n",
    "\n",
    "#get input of player name and life event date as MM/DD/YYYY\n",
    "player_tofind='Alaa Abdelnaby'\n",
    "date_lifeevent='12/01/1990'\n",
    "\n",
    "#get player URL\n",
    "first_letter=player_tofind[player_tofind.find(' ')+1].lower()\n",
    "url='https://www.basketball-reference.com/players/'+first_letter+'/'\n",
    "\n",
    "#wrap in url2soup?\n",
    "res=requests.get(url)\n",
    "bbsoup=bs4.BeautifulSoup(res.text,'lxml')\n",
    "body=bbsoup.select('tbody')\n",
    "\n",
    "names=body[0].find_all('tr')\n",
    "\n",
    "for player_index,player in enumerate(names):\n",
    "    if player_tofind==str(player.find_all('a')[0].contents[0]):\n",
    "        print player_index\n",
    "        urlnew='https://www.basketball-reference.com/'+player.find_all('a')[0].attrs['href']\n",
    "        break\n",
    "\n",
    "#get season URL\n",
    "date_month=float(date_lifeevent[0:date_lifeevent.find('/')])\n",
    "if date_month>9:\n",
    "    urlyear=float(date_lifeevent[-4:])+1\n",
    "else:\n",
    "    urlyear=float(date_lifeevent[-4:])\n",
    "urlnew=urlnew[0:-5]+'/gamelog/'+str(int(urlyear))+'/'\n",
    "urlnew"
   ]
  },
  {
   "cell_type": "code",
   "execution_count": 46,
   "metadata": {},
   "outputs": [
    {
     "name": "stdout",
     "output_type": "stream",
     "text": [
      "[]\n"
     ]
    }
   ],
   "source": [
    "res=requests.get(urlnew)\n",
    "bbsoup=bs4.BeautifulSoup(res.text,'lxml')\n",
    "body=bbsoup.select('tbody')\n",
    "\n",
    "games=body[0].find_all('tr')\n",
    "gsc=[]\n",
    "for game_number,game in enumerate(games):\n",
    "    stats=game.find_all('td')\n",
    "    if len(stats)==29: #skip where he didn't play the game so there's no stats\n",
    "        #pull out date of game (index 1) and game score (index 27)\n",
    "        #need to select based on dates\n",
    "        gsc.append([str(stats[1].contents[0].contents[0]),float(stats[27].contents[0])])\n",
    "\n",
    "print gsc\n",
    "#ot working for all? table different?"
   ]
  }
 ],
 "metadata": {
  "kernelspec": {
   "display_name": "Python 2",
   "language": "python",
   "name": "python2"
  },
  "language_info": {
   "codemirror_mode": {
    "name": "ipython",
    "version": 2
   },
   "file_extension": ".py",
   "mimetype": "text/x-python",
   "name": "python",
   "nbconvert_exporter": "python",
   "pygments_lexer": "ipython2",
   "version": "2.7.12"
  }
 },
 "nbformat": 4,
 "nbformat_minor": 2
}
