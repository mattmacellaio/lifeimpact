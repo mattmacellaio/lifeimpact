{
 "cells": [
  {
   "cell_type": "code",
   "execution_count": 3,
   "metadata": {},
   "outputs": [
    {
     "data": {
      "text/plain": [
       "bs4.BeautifulSoup"
      ]
     },
     "execution_count": 3,
     "metadata": {},
     "output_type": "execute_result"
    }
   ],
   "source": [
    "import requests,bs4\n",
    "# from BeautifulSoup4 import beautifulsoup\n",
    "res = requests.get('https://automatetheboringstuff.com/files/rj.txt')\n",
    "#check that page downloaded OK by checking res.status_code is equal to requests.codes.ok\n",
    "res.raise_for_status() #to break code when you hit a bad page\n",
    "\n",
    "# #load, read and save\n",
    "# save_name='RomeoAndJuliet.txt'\n",
    "# play_file = open(save_name, 'wb')\n",
    "# for chunk in res.iter_content(100000):\n",
    "#     play_file.write(chunk)\n",
    "# play_file.close()\n",
    "\n",
    "res = requests.get('http://nostarch.com')\n",
    "res.raise_for_status()\n",
    "noStarchSoup = bs4.BeautifulSoup(res.text,'lxml')\n",
    "type(noStarchSoup)\n",
    "\n"
   ]
  },
  {
   "cell_type": "code",
   "execution_count": 4,
   "metadata": {},
   "outputs": [
    {
     "data": {
      "text/plain": [
       "bs4.BeautifulSoup"
      ]
     },
     "execution_count": 4,
     "metadata": {},
     "output_type": "execute_result"
    }
   ],
   "source": [
    "import requests,bs4\n",
    "\n",
    "url='https://www.basketball-reference.com/players/v/villach01/gamelog/2016'\n",
    "res=requests.get(url)\n",
    "res.raise_for_status()\n",
    "bbsoup=bs4.BeautifulSoup(res.text,'lxml')\n",
    "type(bbsoup)\n",
    "\n",
    "body=bbsoup.select('tbody')\n",
    "games=body[0].find_all('tr')\n",
    "gsc=[]\n",
    "for game_number,game in enumerate(games):\n",
    "    stats=game.find_all('td')\n",
    "    if len(stats)==29: #skip where he didn't play the game so there's no stats\n",
    "        #pull out date of game (index 1) and game score (index 27)\n",
    "        #need to select based on dates\n",
    "        gsc.append([str(stats[1].contents[0].contents[0]),float(stats[27].contents[0])])\n",
    "\n",
    "print gsc"
   ]
  }
 ],
 "metadata": {
  "kernelspec": {
   "display_name": "Python 2",
   "language": "python",
   "name": "python2"
  },
  "language_info": {
   "codemirror_mode": {
    "name": "ipython",
    "version": 2
   },
   "file_extension": ".py",
   "mimetype": "text/x-python",
   "name": "python",
   "nbconvert_exporter": "python",
   "pygments_lexer": "ipython2",
   "version": "2.7.12"
  }
 },
 "nbformat": 4,
 "nbformat_minor": 2
}
