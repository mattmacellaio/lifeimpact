{
 "cells": [
  {
   "cell_type": "code",
   "execution_count": 1,
   "metadata": {
    "collapsed": true
   },
   "outputs": [],
   "source": [
    "#criteria: at least 5 games played in regular season before or after event\n",
    "#data partially from http://nbafamily.wikia.com/wiki/Category:NBA_Children\n",
    "# \n",
    "player_events=[['J.R. Smith','02/09/2009','birth'], \\\n",
    "               ['Paul Pierce','04/04/2008','birth'], \\\n",
    "               ['Paul Pierce','04/02/2016','birth'], \\\n",
    "               ['Dwyane Wade','11/10/2013','birth'], \\\n",
    "               [\"Shaquille O'Neal\",'01/11/2000','birth'], \\\n",
    "               [\"Shaquille O'Neal\",'11/13/2001','birth'], \\\n",
    "               [\"Carmelo Anthony\",'03/07/2007','birth'], \\\n",
    "               [\"Chris Bosh\",'11/04/2013','birth'], \\\n",
    "               [\"Kobe Bryant\",'01/19/2003','birth'], \\\n",
    "               [\"Michael Jordan\",'12/07/1992','birth'], \\\n",
    "               [\"Michael Jordan\",'11/18/1988','birth'], \\\n",
    "               [\"Michael Jordan\",'12/24/1990','birth'], \\\n",
    "               ['Steve Nash','11/12/2010','birth'], \\\n",
    "               ['Steve Nash','11/13/2010','divorce'], \\\n",
    "               ['Tim Duncan','03/27/2013','divorce'], \\\n",
    "               [\"Amar'e Stoudemire\",'02/06/2012','death'], \\\n",
    "               ['Mychal Thompson','02/08/1990','child'], \\\n",
    "               ['Tony Parker','11/17/2010','divorce']]"
   ]
  },
  {
   "cell_type": "code",
   "execution_count": 64,
   "metadata": {
    "collapsed": true
   },
   "outputs": [],
   "source": [
    "def get_gamescores(url,date_start,date_end):\n",
    "    #get GameScores from given Basketball Reference URL\n",
    "    \n",
    "    import requests, bs4\n",
    "    import pandas as pd\n",
    "    from datetime import timedelta\n",
    "\n",
    "    \n",
    "    dftemp = []\n",
    "    res = requests.get(url)\n",
    "    bbsoup = bs4.BeautifulSoup(res.text,'lxml')\n",
    "    body = bbsoup.select('tbody')\n",
    "    \n",
    "    games = body[0].find_all('tr')\n",
    "    for game_index, game in enumerate(games):\n",
    "        stats = game.find_all('td')\n",
    "        for stat_index, stat in enumerate(stats):\n",
    "            gamedate=pd.to_datetime(stats[1].getText())\n",
    "            # get games in  desired range\n",
    "            if (gamedate>date_start) & (gamedate<date_end):\n",
    "            # check if GameScore exists as a stat, and that the player played that game\n",
    "                if (stat.attrs['data-stat'] == 'game_score') & (len(stat) > 0):\n",
    "                    dftemp.append([str(stats[1].contents[0].contents[0]), \n",
    "                                   float(stats[stat_index].contents[0])])\n",
    "    df = pd.DataFrame(dftemp, columns=['Date', 'GameScore'])\n",
    "    return df"
   ]
  },
  {
   "cell_type": "code",
   "execution_count": 62,
   "metadata": {},
   "outputs": [],
   "source": [
    "def datatodf(url,date_start,date_end,player_id):\n",
    "    import pandas as pd\n",
    "    \n",
    "    player_df = get_gamescores(url, date_start, date_end)\n",
    "    pid = pd.Series.repeat(pd.Series(player_id), len(player_df))\n",
    "    player_df['Player ID']=pid.values\n",
    "    return player_df\n",
    "        "
   ]
  },
  {
   "cell_type": "code",
   "execution_count": 59,
   "metadata": {},
   "outputs": [],
   "source": [
    "def save_playerGS(url,date_start,date_end,playertarget_id,savename):\n",
    "    # get data from url and save to savename.CSV within date range date_start to date_end\n",
    "    # for player playertarget_id\n",
    "    import pandas as pd\n",
    "    \n",
    "    gamescores = pd.DataFrame()\n",
    "    playerdf= datatodf(url,date_start,date_end,playertarget_id)\n",
    "    gamescores = gamescores.append(playerdf)\n",
    "    \n",
    "    print [player_tofind, 'mean/SD of GameScore:', np.mean(playerdf['GameScore']),\n",
    "           np.std(playerdf['GameScore'])]\n",
    "    gamescores.to_csv(savename)  "
   ]
  },
  {
   "cell_type": "code",
   "execution_count": 60,
   "metadata": {},
   "outputs": [],
   "source": [
    "def get_simplayers(bbrefdf,minBPM,maxBPM):\n",
    "    import pandas as pd\n",
    "    # record distribution of GameScores for those player-seasons\n",
    "    \n",
    "    samebpm = bbrefdf[(bbrefdf['BPM'] > minBPM) & (bbrefdf['BPM'] < maxBPM)]\n",
    "    samebpm_data = samebpm[['Year', 'Player', 'Player ID', 'BPM', 'G']]\n",
    "\n",
    "    #floor of 15 games that season to compare appropriate sample sizes\n",
    "    samebpm_data = samebpm_data[samebpm_data['G'] > 15]\n",
    "    gamescores_all = pd.DataFrame()\n",
    "    loading=''\n",
    "    for pl_seas in samebpm_data.iterrows():\n",
    "        player_name = pl_seas[1][1]\n",
    "        season = pl_seas[1][0]\n",
    "        \n",
    "        if (player_name == player_tofind) & (season == year_tofind):\n",
    "            continue\n",
    "        \n",
    "        if season<1984: #steals, blocks not reliably tracked until then\n",
    "            continue\n",
    "        \n",
    "        player_id = str(pl_seas[1][2])\n",
    "        date_start = pd.to_datetime('09/01/'+str(season-1))\n",
    "        date_end = pd.to_datetime('06/01/'+str(season))            \n",
    "        url = 'https://www.basketball-reference.com/players/'+player_id[0]+'/'+\\\n",
    "              player_id+'/gamelog/'+str(season)+'/'\n",
    "        playerdf_match = datatodf(url,date_start,date_end,player_id)\n",
    "        # print [str(player_name), 'mean/SD of GameScore:', np.mean(playerdf['GameScore']), \n",
    "        #        np.std(playerdf['GameScore'])]\n",
    "        gamescores_all = gamescores_all.append(playerdf_match)\n",
    "        \n",
    "       \n",
    "    gamescores_all.to_csv(player_tofind+str(year_tofind)+'matches.csv')    \n",
    "    print ['All matched players mean/SD: ', np.mean(gamescores_all['GameScore']), \n",
    "           np.std(gamescores_all['GameScore'])]\n",
    "    return gamescores_all"
   ]
  },
  {
   "cell_type": "code",
   "execution_count": 149,
   "metadata": {
    "collapsed": false
   },
   "outputs": [
    {
     "name": "stdout",
     "output_type": "stream",
     "text": [
      "['J.R. Smith', '02/09/2009', 'birth']\n"
     ]
    },
    {
     "name": "stdout",
     "output_type": "stream",
     "text": [
      "['J.R. Smith', 'mean/SD of GameScore:', 10.089655172413792, 6.9274240038682331]\n"
     ]
    },
    {
     "name": "stdout",
     "output_type": "stream",
     "text": [
      "['J.R. Smith', 'mean/SD of GameScore:', 11.810344827586206, 7.4562792249951269]\n['Paul Pierce', '04/04/2008', 'birth']\n"
     ]
    },
    {
     "name": "stdout",
     "output_type": "stream",
     "text": [
      "['Paul Pierce', 'mean/SD of GameScore:', 15.229032258064517, 7.019245136713919]\n"
     ]
    },
    {
     "name": "stdout",
     "output_type": "stream",
     "text": [
      "['Paul Pierce', 'mean/SD of GameScore:', 12.32, 4.780962246242904]\n['Paul Pierce', '04/02/2016', 'birth']\n"
     ]
    },
    {
     "name": "stdout",
     "output_type": "stream",
     "text": [
      "['Paul Pierce', 'mean/SD of GameScore:', 3.7900000000000005, 4.1831686554572478]\n"
     ]
    },
    {
     "name": "stdout",
     "output_type": "stream",
     "text": [
      "['Paul Pierce', 'mean/SD of GameScore:', 6.1500000000000004, 4.1680331092734857]\n['Dwyane Wade', '11/10/2013', 'birth']\n"
     ]
    },
    {
     "name": "stdout",
     "output_type": "stream",
     "text": [
      "['Dwyane Wade', 'mean/SD of GameScore:', 14.816666666666665, 4.8371536625949307]\n"
     ]
    },
    {
     "name": "stdout",
     "output_type": "stream",
     "text": [
      "['Dwyane Wade', 'mean/SD of GameScore:', 15.94761904761905, 6.3055998579961452]\n[\"Shaquille O'Neal\", '01/11/2000', 'birth']\n"
     ]
    },
    {
     "name": "stdout",
     "output_type": "stream",
     "text": [
      "[\"Shaquille O'Neal\", 'mean/SD of GameScore:', 24.732142857142861, 8.0475397114996117]\n"
     ]
    },
    {
     "name": "stdout",
     "output_type": "stream",
     "text": [
      "[\"Shaquille O'Neal\", 'mean/SD of GameScore:', 24.411111111111108, 7.5361024081532255]\n[\"Shaquille O'Neal\", '11/13/2001', 'birth']\n"
     ]
    },
    {
     "name": "stdout",
     "output_type": "stream",
     "text": [
      "[\"Shaquille O'Neal\", 'mean/SD of GameScore:', 24.016666666666669, 5.3688660089652283]\n"
     ]
    },
    {
     "name": "stdout",
     "output_type": "stream",
     "text": [
      "[\"Shaquille O'Neal\", 'mean/SD of GameScore:', 20.004545454545458, 7.1172311567661612]\n['Carmelo Anthony', '03/07/2007', 'birth']\n"
     ]
    },
    {
     "name": "stdout",
     "output_type": "stream",
     "text": [
      "['Carmelo Anthony', 'mean/SD of GameScore:', 17.37142857142857, 6.3190673556228187]\n"
     ]
    },
    {
     "name": "stdout",
     "output_type": "stream",
     "text": [
      "['Carmelo Anthony', 'mean/SD of GameScore:', 17.709090909090904, 7.8338954138647958]\n['Chris Bosh', '11/04/2013', 'birth']\n"
     ]
    },
    {
     "name": "stdout",
     "output_type": "stream",
     "text": [
      "['Chris Bosh', 'mean/SD of GameScore:', 15.274999999999999, 4.2622617235453761]\n"
     ]
    },
    {
     "name": "stdout",
     "output_type": "stream",
     "text": [
      "['Chris Bosh', 'mean/SD of GameScore:', 11.755555555555555, 6.7723475514790801]\n['Kobe Bryant', '01/19/2003', 'birth']\n"
     ]
    },
    {
     "name": "stdout",
     "output_type": "stream",
     "text": [
      "['Kobe Bryant', 'mean/SD of GameScore:', 21.233333333333331, 7.2001543193338717]\n"
     ]
    },
    {
     "name": "stdout",
     "output_type": "stream",
     "text": [
      "['Kobe Bryant', 'mean/SD of GameScore:', 24.048148148148151, 7.7715707154641223]\n['Michael Jordan', '12/07/1992', 'birth']\n"
     ]
    },
    {
     "name": "stdout",
     "output_type": "stream",
     "text": [
      "['Michael Jordan', 'mean/SD of GameScore:', 26.357142857142858, 8.6419007735330915]\n"
     ]
    },
    {
     "name": "stdout",
     "output_type": "stream",
     "text": [
      "['Michael Jordan', 'mean/SD of GameScore:', 24.648387096774194, 8.6034453326613036]\n['Michael Jordan', '11/18/1988', 'birth']\n"
     ]
    },
    {
     "name": "stdout",
     "output_type": "stream",
     "text": [
      "['Michael Jordan', 'mean/SD of GameScore:', 31.387500000000003, 8.9869958133961543]\n"
     ]
    },
    {
     "name": "stdout",
     "output_type": "stream",
     "text": [
      "['Michael Jordan', 'mean/SD of GameScore:', 30.068000000000001, 7.507954182065844]\n['Michael Jordan', '12/24/1990', 'birth']\n"
     ]
    },
    {
     "name": "stdout",
     "output_type": "stream",
     "text": [
      "['Michael Jordan', 'mean/SD of GameScore:', 26.096153846153847, 7.3917043298151679]\n"
     ]
    },
    {
     "name": "stdout",
     "output_type": "stream",
     "text": [
      "['Michael Jordan', 'mean/SD of GameScore:', 26.304000000000002, 5.6619770398686704]\n['Steve Nash', '11/12/2010', 'birth']\n"
     ]
    },
    {
     "name": "stdout",
     "output_type": "stream",
     "text": [
      "['Steve Nash', 'mean/SD of GameScore:', 14.557142857142859, 5.0156489803292201]\n"
     ]
    },
    {
     "name": "stdout",
     "output_type": "stream",
     "text": [
      "['Steve Nash', 'mean/SD of GameScore:', 16.571999999999999, 7.0027149020933299]\n['Steve Nash', '11/12/2010', 'divorce']\n"
     ]
    },
    {
     "name": "stdout",
     "output_type": "stream",
     "text": [
      "['Steve Nash', 'mean/SD of GameScore:', 14.557142857142859, 5.0156489803292201]\n"
     ]
    },
    {
     "name": "stdout",
     "output_type": "stream",
     "text": [
      "['Steve Nash', 'mean/SD of GameScore:', 16.571999999999999, 7.0027149020933299]\n['Tim Duncan', '03/27/2013', 'divorce']\n"
     ]
    },
    {
     "name": "stdout",
     "output_type": "stream",
     "text": [
      "['Tim Duncan', 'mean/SD of GameScore:', 14.647058823529411, 7.1099034201315714]\n"
     ]
    },
    {
     "name": "stdout",
     "output_type": "stream",
     "text": [
      "['Tim Duncan', 'mean/SD of GameScore:', 16.711111111111109, 7.8249521751388285]\n[\"Amar'e Stoudemire\", '02/06/2012', 'death']\n"
     ]
    },
    {
     "name": "stdout",
     "output_type": "stream",
     "text": [
      "[\"Amar'e Stoudemire\", 'mean/SD of GameScore:', 11.754545454545456, 6.4228800728140696]\n"
     ]
    },
    {
     "name": "stdout",
     "output_type": "stream",
     "text": [
      "[\"Amar'e Stoudemire\", 'mean/SD of GameScore:', 12.238095238095237, 5.5090813503036093]\n['Mychal Thompson', '02/08/1990', 'child']\n"
     ]
    },
    {
     "name": "stdout",
     "output_type": "stream",
     "text": [
      "['Mychal Thompson', 'mean/SD of GameScore:', 10.095238095238095, 5.3567470753270534]\n"
     ]
    },
    {
     "name": "stdout",
     "output_type": "stream",
     "text": [
      "['Mychal Thompson', 'mean/SD of GameScore:', 6.934615384615384, 3.7844766234724538]\n['Tony Parker', '11/17/2010', 'divorce']\n"
     ]
    },
    {
     "name": "stdout",
     "output_type": "stream",
     "text": [
      "['Tony Parker', 'mean/SD of GameScore:', 15.955555555555556, 6.2902236510514404]\n"
     ]
    },
    {
     "name": "stdout",
     "output_type": "stream",
     "text": [
      "['Tony Parker', 'mean/SD of GameScore:', 13.726666666666665, 7.0724316107608196]\n"
     ]
    }
   ],
   "source": [
    "import pandas as pd\n",
    "import datetime\n",
    "import numpy as np\n",
    "\n",
    "# using \"Historical\" sheet from Box Plus Minus 1.1 Historical for BBRef.xlsm \n",
    "# from https://www.basketball-reference.com/about/bpm.html\n",
    "\n",
    "xl = pd.ExcelFile(\"BPM_1_1_Historical_BBRef.xls\")\n",
    "bbrefdf = xl.parse(\"Sheet1\")\n",
    "\n",
    "#get input of player name and life event date as MM/DD/YYYY\n",
    "for p_ind,player_info in enumerate(player_events):\n",
    "    player_tofind=player_info[0]\n",
    "    date_lifeevent=pd.to_datetime(player_info[1])\n",
    "    print player_info\n",
    "\n",
    "\n",
    "    #get season URL\n",
    "    date_month=date_lifeevent.month\n",
    "    if date_month > 9:\n",
    "        year_tofind=date_lifeevent.year+1\n",
    "    else:\n",
    "        year_tofind=date_lifeevent.year    \n",
    "    \n",
    "    playerslice=bbrefdf[(bbrefdf['Player']==player_tofind) & (bbrefdf['Year']==year_tofind)]\n",
    "    playertarget_id=playerslice['Player ID']\n",
    "    playertarget_id = str(playertarget_id.values[0])\n",
    "    if len(playerslice)==0:\n",
    "        continue\n",
    "    # get season BPM for player\n",
    "    # find similar player-seasons within X% of player's season BPM\n",
    "    pct_touse=0.15\n",
    "    player_bpm = float(playerslice['BPM'])\n",
    "    minBPM = player_bpm*(1-pct_touse)\n",
    "    maxBPM = player_bpm*(1+pct_touse)\n",
    "    \n",
    "    if player_bpm<0:\n",
    "        temp=minBPM\n",
    "        minBPM=maxBPM\n",
    "        maxBPM=temp\n",
    "        \n",
    "    #get GameScores for specific date range\n",
    "    #between start date and event date\n",
    "    days_touse=60\n",
    "    url = 'https://www.basketball-reference.com/players/'+playertarget_id[0]+'/'+\\\n",
    "          playertarget_id+'/gamelog/'+str(year_tofind)+'/'\n",
    "    date_start = date_lifeevent-datetime.timedelta(days=days_touse)\n",
    "    date_end = date_lifeevent\n",
    "    savename=player_tofind+str(year_tofind)+'pre2mo.csv'\n",
    "\n",
    "    save_playerGS(url,date_start,date_end,playertarget_id,savename)\n",
    "\n",
    "    #between event date and end date\n",
    "    date_start = date_lifeevent\n",
    "    date_end = date_lifeevent+datetime.timedelta(days=days_touse)\n",
    "    savename=player_tofind+str(year_tofind)+'post2mo.csv'\n",
    "    \n",
    "    save_playerGS(url,date_start,date_end,playertarget_id,savename)\n",
    "    \n",
    "    # get_simplayers(bbrefdf,minBPM,maxBPM)"
   ]
  },
  {
   "cell_type": "code",
   "execution_count": 10,
   "metadata": {
    "collapsed": false
   },
   "outputs": [
    {
     "data": {
      "image/png": "[encoded data removed]",
      "text/plain": [
       "<matplotlib.figure.Figure at 0x7f247527ced0>"
      ]
     },
     "metadata": {},
     "output_type": "display_data"
    }
   ],
   "source": [
    "import numpy as np\n",
    "import pandas as pd\n",
    "from sklearn import linear_model\n",
    "import matplotlib.pyplot as plt\n",
    "\n",
    "GS_pre_norm=pd.DataFrame()\n",
    "GS_post_norm=pd.DataFrame()\n",
    "for p_ind,player_info in enumerate(player_events):\n",
    "    player_tofind=player_info[0]\n",
    "    date_lifeevent=pd.to_datetime(player_info[1])\n",
    "\n",
    "    #get season URL\n",
    "    date_month=date_lifeevent.month\n",
    "    if date_month > 9:\n",
    "        year_tofind=date_lifeevent.year+1\n",
    "    else:\n",
    "        year_tofind=date_lifeevent.year    \n",
    "        \n",
    "    #load and clean up\n",
    "    days_touse=60\n",
    "    gamescores_preevent = pd.read_csv(player_tofind+str(year_tofind)+'pre2mo.csv')  \n",
    "    gamescores_preevent = gamescores_preevent[['Date', 'GameScore', 'Player ID']]\n",
    "    gamescores_postevent = pd.read_csv(player_tofind+str(year_tofind)+'post2mo.csv')    \n",
    "    gamescores_postevent = gamescores_postevent[['Date', 'GameScore', 'Player ID']]\n",
    "    \n",
    "    gspre_norm=pd.DataFrame()\n",
    "    gspost_norm=pd.DataFrame()\n",
    "    gspre_norm['GameScore'] = gamescores_preevent['GameScore']/\\\n",
    "                              np.mean(gamescores_preevent['GameScore'])-1\n",
    "    gspost_norm['GameScore'] = gamescores_postevent['GameScore']/\\\n",
    "                               np.mean(gamescores_preevent['GameScore'])-1\n",
    "    temp=pd.to_datetime(gamescores_preevent['Date'])-date_lifeevent\n",
    "    gspre_norm['Date Difference'] = pd.Series(temp.astype('timedelta64[D]'),index=gspre_norm.index)\n",
    "    \n",
    "    temp=pd.to_datetime(gamescores_postevent['Date'])-date_lifeevent\n",
    "    gspost_norm['Date Difference'] = pd.Series(temp.astype('timedelta64[D]'),index=gspost_norm.index)\n",
    "    \n",
    "    GS_pre_norm=GS_pre_norm.append(gspre_norm, ignore_index=True)\n",
    "    GS_post_norm=GS_post_norm.append(gspost_norm, ignore_index=True)\n",
    "    \n",
    "    # minGS=np.min([np.min(gamescores_preevent_normpct),np.min(gamescores_postevent_normpct)])\n",
    "    # maxGS=np.max([np.max(gamescores_preevent_normpct),np.max(gamescores_postevent_normpct)])\n",
    "    # bins = np.linspace(minGS,maxGS, 20)\n",
    "    # \n",
    "    # plt.hist(gamescores_preevent_normpct, bins, alpha=0.5, label='pre')\n",
    "    # plt.hist(gamescores_postevent_normpct, bins, alpha=0.5, label='post')\n",
    "    # plt.legend(loc='upper right')\n",
    "    # plt.show()\n",
    "    # \n",
    "    # [t,p]=stats.ttest_ind(gamescores_preevent_normpct, gamescores_postevent_normpct)\n",
    "    # plt.title(player_tofind+' '+str(year_tofind)+' p = '+str(p)[0:4])\n",
    "    \n",
    "#regression up to event time\n",
    "linreg=linear_model.LinearRegression()\n",
    "x=GS_pre_norm['Date Difference'].values\n",
    "y=GS_pre_norm['GameScore'].values\n",
    "model=linreg.fit(x.reshape(-1,1),y)\n",
    "\n",
    "#plot regression line\n",
    "x_pred=range(-days_touse,0)\n",
    "y_pred=model.coef_*x_pred+model.intercept_\n",
    "error=np.std(GS_pre_norm['GameScore'])\n",
    "plt.plot(x_pred,y_pred, 'k-')\n",
    "#plot actual values\n",
    "plt.plot(x.reshape(1,-1),y.reshape(1,-1),'ko')\n",
    "plt.fill_between(x_pred, y_pred-error, y_pred+error,alpha=0.5, edgecolor='#CC4F1B', facecolor='#FF9848')\n",
    "\n",
    "#plot post-event prediction\n",
    "\n",
    "x=GS_post_norm['Date Difference'].values\n",
    "y=GS_post_norm['GameScore'].values\n",
    "model=linreg.fit(x.reshape(-1,1),y)\n",
    "\n",
    "x_pred=range(0,days_touse)\n",
    "y_pred=model.coef_*x_pred+model.intercept_\n",
    "error=np.std(GS_pre_norm['GameScore'])\n",
    "plt.plot(x_pred,y_pred, 'k--')\n",
    "\n",
    "#plot actual values\n",
    "x=GS_post_norm['Date Difference'].values\n",
    "y=GS_post_norm['GameScore'].values\n",
    "plt.plot(x.reshape(1,-1),y.reshape(1,-1),'ko')\n",
    "plt.fill_between(x_pred, y_pred-error, y_pred+error,alpha=0.5, linestyle='dashdot',edgecolor='#CC4F1B', facecolor='#FF9848')\n",
    "plt.show()\n",
    "\n",
    "GS_pre_norm.to_csv('gamescores_preevent_normpct.csv')\n",
    "GS_post_norm.to_csv('gamescores_postevent_normpct.csv')"
   ]
  },
  {
   "cell_type": "code",
   "execution_count": 48,
   "metadata": {},
   "outputs": [
    {
     "name": "stdout",
     "output_type": "stream",
     "text": [
      "<type 'list'>\n"
     ]
    },
    {
     "ename": "TypeError",
     "evalue": "object of type 'NoneType' has no len()",
     "traceback": [
      "\u001b[0;31m---------------------------------------------------------------------------\u001b[0m",
      "\u001b[0;31mTypeError\u001b[0m                                 Traceback (most recent call last)",
      "\u001b[0;32m<ipython-input-48-520aa3f67f66>\u001b[0m in \u001b[0;36m<module>\u001b[0;34m()\u001b[0m\n\u001b[1;32m      9\u001b[0m     tempdf = GS_pre_norm.loc[(GS_pre_norm['Date Difference']>date) & \n\u001b[1;32m     10\u001b[0m                              (GS_pre_norm['Date Difference']<date+10)]\n\u001b[0;32m---> 11\u001b[0;31m     \u001b[0;32mif\u001b[0m \u001b[0mlen\u001b[0m\u001b[0;34m(\u001b[0m\u001b[0mdataset\u001b[0m\u001b[0;34m)\u001b[0m\u001b[0;34m==\u001b[0m\u001b[0;36m0\u001b[0m\u001b[0;34m:\u001b[0m\u001b[0;34m\u001b[0m\u001b[0m\n\u001b[0m\u001b[1;32m     12\u001b[0m         \u001b[0mdataset\u001b[0m \u001b[0;34m=\u001b[0m \u001b[0;34m[\u001b[0m\u001b[0mtempdf\u001b[0m\u001b[0;34m[\u001b[0m\u001b[0;34m'GameScore'\u001b[0m\u001b[0;34m]\u001b[0m\u001b[0;34m.\u001b[0m\u001b[0mvalues\u001b[0m\u001b[0;34m]\u001b[0m\u001b[0;34m\u001b[0m\u001b[0m\n\u001b[1;32m     13\u001b[0m     \u001b[0;32melse\u001b[0m\u001b[0;34m:\u001b[0m\u001b[0;34m\u001b[0m\u001b[0m\n",
      "\u001b[0;31mTypeError\u001b[0m: object of type 'NoneType' has no len()"
     ],
     "output_type": "error"
    }
   ],
   "source": [
    "# import matplotlib.axes as ax\n",
    "import matplotlib.pyplot as plt\n",
    "ax = plt.axes()\n",
    "dataset=list()\n",
    "\n",
    "for date in range(-days_touse, -10, 10):\n",
    "    tempdf = GS_pre_norm.loc[(GS_pre_norm['Date Difference']>date) & \n",
    "                             (GS_pre_norm['Date Difference']<date+10)]\n",
    "    if len(dataset)==0:\n",
    "        dataset = [tempdf['GameScore'].values]\n",
    "    else:\n",
    "        dataset=dataset.append(tempdf['GameScore'].values)\n",
    "\n",
    "    \n",
    "    \n",
    "ax.violinplot(dataset, positions=range(-days_touse+5,-5,10), vert=True, widths=5)\n",
    "plt.show()"
   ]
  },
  {
   "cell_type": "code",
   "execution_count": 46,
   "metadata": {},
   "outputs": [
    {
     "data": {
      "text/plain": [
       "[array([-1.09911141,  0.48667122, -0.3557758 ,  0.88311688, -0.44497608,\n        -0.11353527, -0.96716797, -0.55348443,  0.48400763, -0.05013193,\n         1.40105541,  0.55672823, -0.25602888,  0.12808664,  0.16851986,\n        -0.35306859, -0.01747292, -0.27467105, -0.43585526,  0.27220395,\n        -0.125     , -0.88486842, -0.57142857, -0.39246468, -0.39717425,\n        -0.70800628, -0.15392954, -0.49801032,  0.31053795, -0.21827561,\n        -0.14929993, -0.41370671, -0.13975904, -0.7064257 , -0.00321285,\n        -0.67911647, -0.58313998,  0.76102088,  0.11446249,  0.41650943,\n        -0.25707547, -0.63349057])]"
      ]
     },
     "execution_count": 46,
     "metadata": {},
     "output_type": "execute_result"
    }
   ],
   "source": [
    "dataset=list()\n",
    "type(dataset)\n",
    "dataset.append(tempdf['GameScore'].values)\n",
    "dataset"
   ]
  },
  {
   "cell_type": "code",
   "execution_count": 12,
   "metadata": {
    "collapsed": true
   },
   "outputs": [
    {
     "data": {
      "text/plain": [
       "Series([], Name: Player ID, dtype: object)"
      ]
     },
     "execution_count": 12,
     "metadata": {},
     "output_type": "execute_result"
    }
   ],
   "source": [
    "# is MPLE different from month after life event (MALE)?\n",
    "#no: no significant difference between players' performance before or after (1 month or 2)\n",
    "# no significant difference across all players tested\n",
    "\n",
    "# test 2: is month before life-event (MBLE) different from player-season distribution?\n",
    "\n",
    "#test 3: is month-month difference significantly different \n",
    "# from similar players' month-month variance?\n",
    "\n",
    "#**what else did they want?\n",
    "\n"
   ]
  }
 ],
 "metadata": {
  "kernelspec": {
   "display_name": "Python 2",
   "language": "python",
   "name": "python2"
  },
  "language_info": {
   "codemirror_mode": {
    "name": "ipython",
    "version": 2
   },
   "file_extension": ".py",
   "mimetype": "text/x-python",
   "name": "python",
   "nbconvert_exporter": "python",
   "pygments_lexer": "ipython2",
   "version": "2.7.12"
  }
 },
 "nbformat": 4,
 "nbformat_minor": 2
}
