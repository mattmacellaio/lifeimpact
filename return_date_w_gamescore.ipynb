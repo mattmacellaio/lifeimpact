{
 "cells": [
  {
   "cell_type": "code",
   "execution_count": null,
   "metadata": {},
   "outputs": [],
   "source": [
    "#criteria: at least 5 games played in regular season before or after event\n",
    "#data partially from http://nbafamily.wikia.com/wiki/Category:NBA_Children\n",
    "\n",
    "player_events=[['J.R. Smith','01/02/2017','birth'], \\\n",
    "               ['J.R. Smith','02/09/2009','birth'], \\\n",
    "               ['Paul Pierce','04/04/2008','birth'], \\\n",
    "               ['Paul Pierce','04/02/2016','birth'], \\\n",
    "               ['Dwyane Wade','02/04/2002','birth'], \\\n",
    "               ['Dwyane Wade','11/10/2013','birth'], \\\n",
    "               [\"Shaquille O'Neal\",'01/11/2000','birth'], \\\n",
    "               [\"Shaquille O'Neal\",'11/13/2001','birth'], \\\n",
    "               [\"Carmelo Anthony\",'03/07/2007','birth'], \\\n",
    "               [\"Chris Bosh\",'11/04/2013','birth'], \\\n",
    "               [\"Kobe Bryant\",'01/19/2003','birth'], \\\n",
    "               [\"Michael Jordan\",'12/07/1992','birth'], \\\n",
    "               [\"Michael Jordan\",'11/18/1988','birth'], \\\n",
    "               [\"Michael Jordan\",'12/24/1990','birth'], \\\n",
    "               ['Steve Nash','11/12/2010','birth'], \\\n",
    "               ['Steve Nash','11/12/2010','divorce'], \\\n",
    "               ['Tim Duncan','03/27/2013','divorce'], \\\n",
    "               [\"Amar'e Stoudemire\",'02/06/2012','death'], \\\n",
    "               ['Mychal Thompson','02/08/1990','child'], \\\n",
    "               ['Tony Parker','11/17/2010','divorce']]"
   ]
  },
  {
   "cell_type": "code",
   "execution_count": 1,
   "metadata": {},
   "outputs": [
    {
     "name": "stdout",
     "output_type": "stream",
     "text": [
      "207\n"
     ]
    },
    {
     "data": {
      "text/plain": [
       "'https://www.basketball-reference.com//players/j/jordami01/gamelog/1993/'"
      ]
     },
     "execution_count": 1,
     "metadata": {},
     "output_type": "execute_result"
    }
   ],
   "source": [
    "#input player, event date\n",
    "import requests,bs4\n",
    "import pandas as pd\n",
    "from datetime import datetime\n",
    "\n",
    "#get input of player name and life event date as MM/DD/YYYY\n",
    "for p_ind,player_info in enumerate(player_events):\n",
    "player_tofind=player_info[0]\n",
    "date_lifeevent=player_info[1]\n",
    "\n",
    "#get player URL\n",
    "first_letter=player_tofind[player_tofind.find(' ')+1].lower()\n",
    "url='https://www.basketball-reference.com/players/'+first_letter+'/'\n",
    "\n",
    "#wrap in url2soup?\n",
    "res=requests.get(url)\n",
    "bbsoup=bs4.BeautifulSoup(res.text,'lxml')\n",
    "body=bbsoup.select('tbody')\n",
    "\n",
    "names=body[0].find_all('tr')\n",
    "\n",
    "for player_index,player in enumerate(names):\n",
    "    if player_tofind==str(player.find_all('a')[0].contents[0]):\n",
    "        urlnew='https://www.basketball-reference.com/'+player.find_all('a')[0].attrs['href']\n",
    "        break\n",
    "    \n",
    "    #get season URL\n",
    "    date_month=float(date_lifeevent[0:date_lifeevent.find('/')])\n",
    "    if date_month>9:\n",
    "        urlyear=float(date_lifeevent[-4:])+1\n",
    "    else:\n",
    "        urlyear=float(date_lifeevent[-4:])\n",
    "    urlnew=urlnew[0:-5]+'/gamelog/'+str(int(urlyear))+'/'\n",
    "    \n",
    "    #get GameScores for specific date range\n",
    "    gamescores_preevent=pd.DataFrame()\n",
    "    for pl_seas in samebpm_data.iterrows(): #only the one player/date\n",
    "        if #between start date and event date\n",
    "            url='https://www.basketball-reference.com/players/'+str(pl_seas[1][2][0])+'/'+str(pl_seas[1][2])+'/gamelog/'+str(int(pl_seas[1][0]))+'/'\n",
    "            playerdf=get_gamescores(url)\n",
    "            pid=pd.Series.repeat(pd.Series(str(pl_seas[1][2])),len(playerdf))\n",
    "            playerdf['Player ID']=pid.values\n",
    "            print [str(pl_seas[1][1]),'mean/SD of GameScore:',np.mean(playerdf['GameScore']),np.std(playerdf['GameScore'])]\n",
    "            gamescores_preevent=gamescores_preevent.append(playerdf)\n",
    "            \n",
    "    gamescores_postevent=pd.DataFrame()\n",
    "    for pl_seas in samebpm_data.iterrows(): #only the one player/date\n",
    "        if #between start date and event date\n",
    "            url='https://www.basketball-reference.com/players/'+str(pl_seas[1][2][0])+'/'+str(pl_seas[1][2])+'/gamelog/'+str(int(pl_seas[1][0]))+'/'\n",
    "            playerdf=get_gamescores(url)\n",
    "            pid=pd.Series.repeat(pd.Series(str(pl_seas[1][2])),len(playerdf))\n",
    "            playerdf['Player ID']=pid.values\n",
    "            print [str(pl_seas[1][1]),'mean/SD of GameScore:',np.mean(playerdf['GameScore']),np.std(playerdf['GameScore'])]\n",
    "            gamescores_postevent=gamescores_postevent.append(playerdf)\n",
    "            \n",
    "    "
   ]
  },
  {
   "cell_type": "code",
   "execution_count": 3,
   "metadata": {},
   "outputs": [],
   "source": [
    "def get_gamescores(url):\n",
    "    #get GameScores from given Basketball Reference URL\n",
    "    \n",
    "    import requests,bs4,pandas as pd\n",
    "    \n",
    "    dftemp=[]\n",
    "    res=requests.get(url)\n",
    "    bbsoup=bs4.BeautifulSoup(res.text,'lxml')\n",
    "    body=bbsoup.select('tbody')\n",
    "    \n",
    "    games=body[0].find_all('tr')\n",
    "    for game_index,game in enumerate(games):\n",
    "        stats=game.find_all('td')\n",
    "        \n",
    "        for stat_index,stat in enumerate(stats):\n",
    "            if (stat.attrs['data-stat']=='game_score') & (len(stat)>0):\n",
    "                dftemp.append([str(stats[1].contents[0].contents[0]), float(stats[stat_index].contents[0])])\n",
    "    df=pd.DataFrame(dftemp,columns=['Date','GameScore'])\n",
    "    return df"
   ]
  },
  {
   "cell_type": "code",
   "execution_count": 9,
   "metadata": {},
   "outputs": [],
   "source": [
    "# #playoff stats in different table, unparseable in comment\n",
    "# playoffs=bbsoup.find_all(\"div\",  id=\"all_pgl_basic_playoffs\")\n",
    "#all below code is just getting original table again\n",
    "# playoffsmaybe=bbsoup.find_all(\"div\", attrs ={\"class\":\"table_outer_container\"})\n",
    "# playofftable=playoffsmaybe[0].contents[1].contents[1]\n",
    "# column_headers = [th.getText() for th in playofftable.thead.tr.find_all('th')]\n",
    "# \n",
    "# #get indices\n",
    "# for index,value in enumerate(column_headers):\n",
    "#     if value=='GmSc':\n",
    "#         gsc_index=index\n",
    "#     elif value=='Date':\n",
    "#         date_index=index\n",
    "# \n",
    "# \n",
    "# games=playofftable.tbody.find_all('tr')\n",
    "# plgsc=[]\n",
    "# for game_index,game in enumerate(games):\n",
    "#     stats=game.find_all('td')\n",
    "#     \n",
    "#     for stat_index,stat in enumerate(stats):\n",
    "#         if (stat.attrs['data-stat']=='game_score') & (len(stat)>0):\n",
    "#             plgsc.append([str(stats[1].contents[0].contents[0]),float(stats[stat_index].contents[0])])\n"
   ]
  },
  {
   "cell_type": "code",
   "execution_count": null,
   "metadata": {},
   "outputs": [],
   "source": [
    "\n",
    "# is month before life-event (MBLE) different from player-season distribution\n",
    "\n",
    "# is MPLE different from month after life event (MALE)?\n"
   ]
  },
  {
   "cell_type": "code",
   "execution_count": 1,
   "metadata": {},
   "outputs": [],
   "source": [
    "# get season BPM for player\n",
    "\n",
    "# find similar player-seasons within 10% of player's season BPM\n",
    "\n",
    "# using \"Historical\" sheet from Box Plus Minus 1.1 Historical for BBRef.xlsm \n",
    "# from https://www.basketball-reference.com/about/bpm.html\n",
    "\n",
    "import pandas as pd\n",
    "xl = pd.ExcelFile(\"BPM_1_1_Historical_BBRef.xls\")\n",
    "df = xl.parse(\"Sheet1\")\n",
    "player_tofind='LeBron James'\n",
    "year_tofind=2010\n",
    "playerslice=df[(df['Player']==player_tofind) & (df['Year']==year_tofind)]\n",
    "player_bpm=float(playerslice['BPM'])\n",
    "minBPM=player_bpm*0.8\n",
    "maxBPM=player_bpm*1.2\n",
    "samebpm=df[(df['BPM']>minBPM) & (df['BPM']<maxBPM)]\n",
    "samebpm_data=samebpm[['Year','Player','Player ID','BPM','G']]\n",
    "\n",
    "#floor of 15 games that season to compare appropriate sample sizes\n",
    "samebpm_data=samebpm_data[samebpm_data['G']>15]\n",
    "\n"
   ]
  },
  {
   "cell_type": "code",
   "execution_count": 4,
   "metadata": {},
   "outputs": [
    {
     "name": "stdout",
     "output_type": "stream",
     "text": [
      "['Michael Jordan', 'mean/SD of GameScore:', 28.813414634146344, 8.8362855317610833]\n"
     ]
    },
    {
     "name": "stdout",
     "output_type": "stream",
     "text": [
      "['Michael Jordan', 'mean/SD of GameScore:', 28.595061728395059, 8.1507994190158488]\n"
     ]
    },
    {
     "name": "stdout",
     "output_type": "stream",
     "text": [
      "['Michael Jordan', 'mean/SD of GameScore:', 27.570731707317076, 9.5524545154364606]\n"
     ]
    },
    {
     "name": "stdout",
     "output_type": "stream",
     "text": [
      "['Michael Jordan', 'mean/SD of GameScore:', 26.213414634146343, 7.0233888386802299]\n"
     ]
    },
    {
     "name": "stdout",
     "output_type": "stream",
     "text": [
      "['David Robinson', 'mean/SD of GameScore:', 25.818750000000001, 9.2091950482927665]\n"
     ]
    },
    {
     "name": "stdout",
     "output_type": "stream",
     "text": [
      "['LeBron James', 'mean/SD of GameScore:', 24.149333333333335, 8.2597235358629817]\n"
     ]
    },
    {
     "name": "stdout",
     "output_type": "stream",
     "text": [
      "['LeBron James', 'mean/SD of GameScore:', 24.271604938271604, 7.6268893157072695]\n"
     ]
    },
    {
     "name": "stdout",
     "output_type": "stream",
     "text": [
      "['Dwyane Wade', 'mean/SD of GameScore:', 24.16708860759493, 8.871098308252499]\n"
     ]
    },
    {
     "name": "stdout",
     "output_type": "stream",
     "text": [
      "['Chris Paul', 'mean/SD of GameScore:', 23.005128205128205, 7.926843350059591]\n"
     ]
    },
    {
     "name": "stdout",
     "output_type": "stream",
     "text": [
      "['LeBron James', 'mean/SD of GameScore:', 22.932258064516127, 6.9949699483674701]\n"
     ]
    },
    {
     "name": "stdout",
     "output_type": "stream",
     "text": [
      "['LeBron James', 'mean/SD of GameScore:', 24.405263157894741, 6.0841445088387029]\n"
     ]
    },
    {
     "name": "stdout",
     "output_type": "stream",
     "text": [
      "['Stephen Curry', 'mean/SD of GameScore:', 20.386249999999997, 7.6935158372164283]\n"
     ]
    },
    {
     "name": "stdout",
     "output_type": "stream",
     "text": [
      "['Russell Westbrook', 'mean/SD of GameScore:', 21.565671641791045, 9.0909755521173761]\n"
     ]
    },
    {
     "name": "stdout",
     "output_type": "stream",
     "text": [
      "['Russell Westbrook', 'mean/SD of GameScore:', 20.887499999999999, 7.4591282164875006]\n"
     ]
    },
    {
     "name": "stdout",
     "output_type": "stream",
     "text": [
      "['Stephen Curry', 'mean/SD of GameScore:', 24.579746835443036, 8.6776503228570547]\n['Overall mean/SD: ', 24.571048109965634, 8.5412791038370948]\n"
     ]
    }
   ],
   "source": [
    "# record distribution of GameScores for those player-seasons\n",
    "\n",
    "import numpy as np\n",
    "gamescores_all=pd.DataFrame()\n",
    "for pl_seas in samebpm_data.iterrows():\n",
    "    if not((pl_seas[1][1] == player_tofind) & (pl_seas[1][0] == year_tofind)):\n",
    "        url='https://www.basketball-reference.com/players/'+str(pl_seas[1][2][0])+'/'+str(pl_seas[1][2])+'/gamelog/'+str(int(pl_seas[1][0]))+'/'\n",
    "        playerdf=get_gamescores(url)\n",
    "        pid=pd.Series.repeat(pd.Series(str(pl_seas[1][2])),len(playerdf))\n",
    "        playerdf['Player ID']=pid.values\n",
    "        print [str(pl_seas[1][1]),'mean/SD of GameScore:',np.mean(playerdf['GameScore']),np.std(playerdf['GameScore'])]\n",
    "        gamescores_all=gamescores_all.append(playerdf)\n",
    "        \n",
    "print ['Overall mean/SD: ',np.mean(gamescores_all['GameScore']),np.std(gamescores_all['GameScore'])]\n"
   ]
  },
  {
   "cell_type": "code",
   "execution_count": null,
   "metadata": {},
   "outputs": [],
   "source": []
  }
 ],
 "metadata": {
  "kernelspec": {
   "display_name": "Python 2",
   "language": "python",
   "name": "python2"
  },
  "language_info": {
   "codemirror_mode": {
    "name": "ipython",
    "version": 2
   },
   "file_extension": ".py",
   "mimetype": "text/x-python",
   "name": "python",
   "nbconvert_exporter": "python",
   "pygments_lexer": "ipython2",
   "version": "2.7.12"
  }
 },
 "nbformat": 4,
 "nbformat_minor": 2
}
